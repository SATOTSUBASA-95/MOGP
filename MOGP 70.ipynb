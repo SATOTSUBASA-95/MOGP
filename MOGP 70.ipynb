{
 "cells": [
  {
   "cell_type": "code",
   "execution_count": 1,
   "metadata": {},
   "outputs": [
    {
     "name": "stderr",
     "output_type": "stream",
     "text": [
      "/opt/anaconda3/lib/python3.7/site-packages/statsmodels/tools/_testing.py:19: FutureWarning: pandas.util.testing is deprecated. Use the functions in the public API at pandas.testing instead.\n",
      "  import pandas.util.testing as tm\n"
     ]
    }
   ],
   "source": [
    "import seaborn as sns\n",
    "import matplotlib.pyplot as plt\n",
    "import pandas as pd\n",
    "import GPy\n",
    "import numpy as np\n",
    "from GPy.core import GP\n",
    "from GPy import likelihoods\n",
    "from GPy import kern\n",
    "from GPy import util\n",
    "import numpy as np\n",
    "import pylab as pb\n",
    "from sklearn.metrics import mean_absolute_error, mean_squared_error\n",
    "import itertools\n",
    "from cwgp.grid_search import grid_search\n",
    "import seaborn as sns\n",
    "import copy\n",
    "import os\n",
    "import scipy\n",
    "from sklearn.model_selection import KFold"
   ]
  },
  {
   "cell_type": "code",
   "execution_count": 2,
   "metadata": {},
   "outputs": [],
   "source": [
    "class GPCoregionalizedRegression(GP):\n",
    "    \"\"\"\n",
    "    Gaussian Process model for heteroscedastic multioutput regression\n",
    "\n",
    "    This is a thin wrapper around the models.GP class, with a set of sensible defaults\n",
    "\n",
    "    :param X_list: list of input observations corresponding to each output\n",
    "    :type X_list: list of numpy arrays\n",
    "    :param Y_list: list of observed values related to the different noise models\n",
    "    :type Y_list: list of numpy arrays\n",
    "    :param kernel: a GPy kernel ** Coregionalized, defaults to RBF ** Coregionalized\n",
    "    :type kernel: None | GPy.kernel defaults\n",
    "    :likelihoods_list: a list of likelihoods, defaults to list of Gaussian likelihoods\n",
    "    :type likelihoods_list: None | a list GPy.likelihoods\n",
    "    :param name: model name\n",
    "    :type name: string\n",
    "    :param W_rank: number tuples of the corregionalization parameters 'W' (see coregionalize kernel documentation)\n",
    "    :type W_rank: integer\n",
    "    :param kernel_name: name of the kernel\n",
    "    :type kernel_name: string\n",
    "    \"\"\"\n",
    "    def __init__(self, X_list, Y_list, kernel=None, mean_function=None, likelihoods_list=None, name='GPCR',W_rank=1,kernel_name='coreg'):\n",
    "\n",
    "        #Input and Output\n",
    "        X,Y,self.output_index = util.multioutput.build_XY(X_list,Y_list)\n",
    "        Ny = len(Y_list)\n",
    "\n",
    "        #Kernel\n",
    "        if kernel is None:\n",
    "            kernel = kern.RBF(X.shape[1]-1)\n",
    "            \n",
    "            kernel = util.multioutput.ICM(input_dim=X.shape[1]-1, num_outputs=Ny, kernel=kernel, W_rank=W_rank,name=kernel_name)\n",
    "\n",
    "        #Likelihood\n",
    "        likelihood = util.multioutput.build_likelihood(Y_list,self.output_index,likelihoods_list)\n",
    "\n",
    "        super(GPCoregionalizedRegression, self).__init__(X,Y,kernel,likelihood,mean_function=mean_function, Y_metadata={'output_index':self.output_index})"
   ]
  },
  {
   "cell_type": "code",
   "execution_count": 3,
   "metadata": {},
   "outputs": [],
   "source": [
    "def const(x):\n",
    "    if x.shape[0]!=80:\n",
    "        print(x)\n",
    "    return x"
   ]
  },
  {
   "cell_type": "code",
   "execution_count": 4,
   "metadata": {},
   "outputs": [],
   "source": [
    "def plot_2outputs(m,x,Y_train,X_test,Y_test,xlim,ylim):\n",
    "    fig = pb.figure(figsize=(12,8))\n",
    "    #Output 1\n",
    "    ax1 = fig.add_subplot(211)\n",
    "    ax1.set_xlim(xlim)\n",
    "    ax1.set_title('Output 1')\n",
    "    m.plot(plot_limits=xlim,fixed_inputs=[(1,0)],which_data_rows=slice(0,len(Y_train[0])),ax=ax1)\n",
    "    ax1.plot(x,Y_train[0],'x',color = \"black\",mew=1.5)\n",
    "    #Output 2\n",
    "    ax2 = fig.add_subplot(212)\n",
    "    ax2.set_xlim(xlim)\n",
    "    ax2.set_title('Output 2')\n",
    "    m.plot(plot_limits=xlim,fixed_inputs=[(1,1)],which_data_rows=slice(len(Y_train[0]),2*len(Y_train[0])),ax=ax2)\n",
    "    ax2.plot(x,Y_train[1],'x',color = \"black\",mew=1.5) \n",
    "    if X_test is not None :\n",
    "        ax1.plot(X_test,Y_test[0],'x',color = \"red\",mew=1.5)\n",
    "        ax2.plot(X_test,Y_test[1],'x',color = \"red\",mew=1.5)\n",
    "    plt.show()"
   ]
  },
  {
   "cell_type": "code",
   "execution_count": 5,
   "metadata": {},
   "outputs": [],
   "source": [
    "def draw(domain, y_mean, y_top, y_bot, x_train, y_train, x_val, y_val, x_test, y_test, subplot, ylim=False):\n",
    "    subplot.fill_between(domain, np.ravel(y_top), np.ravel(y_bot), color=(0,0.5,0.5,0.2), label=\"Confidence\")\n",
    "    subplot.scatter(x_train, y_train, marker=\"x\", color='black', label=\"train\")\n",
    "    subplot.scatter(x_val, y_val, marker=\"x\", color='red', label=\"validate\")\n",
    "    subplot.scatter(x_test, y_test, marker=\"x\", color='blue', label=\"test\")\n",
    "    subplot.plot(domain, y_mean, label=\"mean\")\n",
    "    if ylim:\n",
    "        subplot.set_ylim(ylim)       \n",
    "    subplot.grid(True)\n",
    "    subplot.legend()"
   ]
  },
  {
   "cell_type": "code",
   "execution_count": 6,
   "metadata": {},
   "outputs": [],
   "source": [
    "def mogp_cwgp(**kwargs):\n",
    "    \n",
    "    cwgp_models = kwargs[\"model_holder\"]\n",
    "    train = kwargs[\"train\"]\n",
    "    val = kwargs[\"val\"]\n",
    "    X,Y = kwargs[\"X\"], kwargs[\"Y\"]\n",
    "    x_test, y_test = kwargs[\"x_test\"], kwargs[\"y_test\"]\n",
    "    mean_function = kwargs[\"mean_function\"]\n",
    "\n",
    "    \n",
    "    \n",
    "    X_train, Y_train = X[train], Y[:,train,:]\n",
    "    X_val, Y_val = X[val], Y[:,val,:]\n",
    "    \n",
    "    \n",
    "\n",
    "    X_jp_train, Y_jp_train = X_train, Y_train[0]\n",
    "    X_us_train, Y_us_train = X_train, Y_train[1]\n",
    "    x_jp_val, y_jp_val = X_val, Y_val[0]\n",
    "    x_us_val, y_us_val = X_val, Y_val[1]\n",
    "    X_jp_test, Y_jp_test = x_test, y_test[0]\n",
    "    X_us_test, Y_us_test = x_test, y_test[1]\n",
    "    \n",
    "\n",
    "    \n",
    "    for cwgp in cwgp_models:\n",
    "        Y_jp_train, d = cwgp.phi.comp_phi(cwgp.phi.res.x, Y_jp_train)\n",
    "        Y_us_train, d = cwgp.phi.comp_phi(cwgp.phi.res.x, Y_us_train)\n",
    "        Y_train, d = cwgp.phi.comp_phi(cwgp.phi.res.x, Y_train)\n",
    "        Y_val, d = cwgp.phi.comp_phi(cwgp.phi.res.x, Y_val)\n",
    "    \n",
    "\n",
    "\n",
    "    mf = GPy.core.Mapping(1,1)\n",
    "    mf.f = lambda x: mean_function(x)\n",
    "    mf.update_gradients = lambda a,b: None\n",
    "     \n",
    "    \n",
    "    K = GPy.kern.RBF(1)\n",
    "    icm = GPy.util.multioutput.ICM(input_dim=1,num_outputs=2,kernel=K)\n",
    "    \n",
    "    \n",
    "    n = GPCoregionalizedRegression([X_jp_train, X_us_train],[Y_jp_train,Y_us_train],kernel=icm,mean_function=mf)\n",
    "    n.optimize()\n",
    "    \n",
    "    start, end = 1940, 2031\n",
    "        \n",
    "    plot_2outputs(n,X_train,Y_train,X_val,Y_val,xlim=(start-10,end+10),ylim=(0.01,0.08))\n",
    "   \n",
    "    X_jp_val = np.hstack([X_val,np.zeros_like(X_val)])\n",
    "    noise_dict = {'output_index':X_jp_val[:,1:].astype(int)}\n",
    "    Y_jp_val = n.predict(X_jp_val, Y_metadata=noise_dict)\n",
    "    Y_jp_val_mean, Y_jp_val_var=Y_jp_val[0],Y_jp_val[1]\n",
    "\n",
    "\n",
    "    for cwgp in cwgp_models[::-1]:\n",
    "        Y_jp_val_mean = cwgp.phi.inv_comp_phi(cwgp.phi.res.x, Y_jp_val_mean)\n",
    "        Y_train = cwgp.phi.inv_comp_phi(cwgp.phi.res.x, Y_train)\n",
    "        Y_val = cwgp.phi.inv_comp_phi(cwgp.phi.res.x, Y_val)\n",
    "\n",
    "    x_jp_test = np.hstack([X_jp_test,np.zeros_like(X_jp_test)])\n",
    "    \n",
    "    \n",
    "    domain = np.linspace(start,end,end-start+1).reshape(-1,1)\n",
    "    domain_2 = np.hstack([domain,np.zeros_like(domain)])\n",
    "    domain_3 = np.linspace(start,end,end-start+1)\n",
    "    noise_dict = {'output_index':domain_2[:,1:].astype(int)}\n",
    "    cwgp_y_all = n.predict(domain_2,Y_metadata=noise_dict)\n",
    "    cwgp_y_mean, cwgp_y_var = cwgp_y_all[0], cwgp_y_all[1]\n",
    "    cwgp_y_top, cwgp_y_bot = cwgp_y_mean + 1.96*np.sqrt(cwgp_y_var), cwgp_y_mean - 1.96*np.sqrt(cwgp_y_var) \n",
    "    noise_dict2 = {'output_index':x_jp_test[:,1:].astype(int)}\n",
    "    cwgp_predict_y_test = n.predict(x_jp_test,Y_metadata=noise_dict2)\n",
    "    cwgp_predict_y_test_mean, cwgp_predict_y_test_var = cwgp_predict_y_test[0],cwgp_predict_y_test[1]\n",
    "    \n",
    "    y_mean, y_var, y_top, y_bot ,predict_y_test_mean = cwgp_y_mean, cwgp_y_var, cwgp_y_top, cwgp_y_bot, cwgp_predict_y_test_mean\n",
    "    \n",
    "    for cwgp in cwgp_models[::-1]: \n",
    "        y_mean, y_var = cwgp.phi.inv_comp_phi(cwgp.phi.res.x, y_mean), cwgp.phi.inv_comp_phi(cwgp.phi.res.x, y_var)\n",
    "        y_top, y_bot = cwgp.phi.inv_comp_phi(cwgp.phi.res.x, y_top), cwgp.phi.inv_comp_phi(cwgp.phi.res.x, y_bot)\n",
    "        predict_y_test_mean = cwgp.phi.inv_comp_phi(cwgp.phi.res.x, predict_y_test_mean)\n",
    "    \n",
    "    validate_rmse = mean_squared_error(Y_jp_val_mean, \n",
    "                                       y_jp_val,\n",
    "                                       squared=False)\n",
    "    \n",
    "    test_rmse = mean_squared_error(predict_y_test_mean, \n",
    "                                   Y_jp_test,\n",
    "                                   squared=False)\n",
    "    print(validate_rmse,test_rmse)\n",
    "    \n",
    "        \n",
    "    fig, (ax1, ax2) = plt.subplots(2,1,figsize=(10,6))\n",
    "    \n",
    "    draw(domain_3, y_mean, y_top, y_bot, X_jp_train, Y_train[0], X_val, \n",
    "        Y_jp_val_mean, x_test, y_test[0], ax1)\n",
    "\n",
    "    print(kwargs[\"hyperparams\"])\n",
    "    print(\n",
    "    f\"validate_rmse: {validate_rmse} \\n test_rmse: {test_rmse}\\n\"\n",
    "    )\n",
    "    plt.show()\n",
    "    return validate_rmse, test_rmse\n",
    "#     print ('\\nB matrix\\n',icm.B.B)\n",
    "#     print (n)\n",
    "    "
   ]
  },
  {
   "cell_type": "code",
   "execution_count": null,
   "metadata": {},
   "outputs": [],
   "source": []
  },
  {
   "cell_type": "code",
   "execution_count": 7,
   "metadata": {},
   "outputs": [],
   "source": [
    "## Preprocess\n",
    "\n",
    "file_names = [\"JP\",\"USA\"]\n",
    "age_range = [69,70]\n",
    "\n",
    "\n",
    "df = {}\n",
    "df_age = {}\n",
    "\n",
    "\n",
    "for country in file_names:\n",
    "    df[country] = pd.read_csv(f\"{country}.txt\", skiprows=1, delim_whitespace=True)\n",
    "    df[country] = df[country][df[country][\"Age\"] != \"110+\"]\n",
    "    df[country][\"Total\"] = pd.to_numeric(df[country][\"Total\"],errors='coerce')\n",
    "    df[country][\"Age\"] = df[country][\"Age\"].astype(\"int64\")\n",
    "\n",
    "\n",
    "    df[country][\"country\"] = country\n",
    "    \n",
    "blank_df = pd.DataFrame(columns=df[file_names[0]].columns)\n",
    "\n",
    "for age in age_range:\n",
    "    df_age[age] = blank_df\n",
    "    for country in file_names:\n",
    "        df_age[age] = pd.concat([df_age[age],df[country][df[country][\"Age\"] == age]])"
   ]
  },
  {
   "cell_type": "code",
   "execution_count": 8,
   "metadata": {},
   "outputs": [],
   "source": [
    "age = 70\n",
    "start, end = 1947,2019"
   ]
  },
  {
   "cell_type": "code",
   "execution_count": 9,
   "metadata": {},
   "outputs": [],
   "source": [
    "X = np.arange(start,end).reshape(-1,1)\n",
    "Y1 = df_age[age].query(f\"country == 'JP' and  {end} > Year >= {start} \")[\"Total\"].to_numpy().reshape(-1,1)\n",
    "Y2 = df_age[age].query(f\"country == 'USA' and {end} > Year >= {start} \")[\"Total\"].to_numpy().reshape(-1,1)\n",
    "Y = np.stack([Y1,Y2])"
   ]
  },
  {
   "cell_type": "code",
   "execution_count": 10,
   "metadata": {},
   "outputs": [],
   "source": [
    "test_ratio = 1 - 0.15\n",
    "length = len(X)\n",
    "\n",
    "test = int(test_ratio*length)\n",
    "\n",
    "x_tv, y_tv = X[:test], Y[:,:test]\n",
    "x_test, y_test = X[test:], Y[:,test:]"
   ]
  },
  {
   "cell_type": "code",
   "execution_count": 11,
   "metadata": {},
   "outputs": [
    {
     "data": {
      "text/plain": [
       "(61, 1)"
      ]
     },
     "execution_count": 11,
     "metadata": {},
     "output_type": "execute_result"
    }
   ],
   "source": [
    "x_tv.shape"
   ]
  },
  {
   "cell_type": "code",
   "execution_count": 12,
   "metadata": {},
   "outputs": [],
   "source": [
    "# SOGP"
   ]
  },
  {
   "cell_type": "code",
   "execution_count": 13,
   "metadata": {},
   "outputs": [],
   "source": [
    "# MOGP"
   ]
  },
  {
   "cell_type": "code",
   "execution_count": 14,
   "metadata": {
    "scrolled": false
   },
   "outputs": [
    {
     "name": "stderr",
     "output_type": "stream",
     "text": [
      "  0%|          | 0/16 [00:00<?, ?it/s]"
     ]
    },
    {
     "name": "stdout",
     "output_type": "stream",
     "text": [
      "[('box_cox', 2), ('sa', 2)]\n"
     ]
    },
    {
     "name": "stderr",
     "output_type": "stream",
     "text": [
      "\n"
     ]
    },
    {
     "ename": "AssertionError",
     "evalue": "",
     "output_type": "error",
     "traceback": [
      "\u001b[0;31m---------------------------------------------------------------------------\u001b[0m",
      "\u001b[0;31mAssertionError\u001b[0m                            Traceback (most recent call last)",
      "\u001b[0;32m<ipython-input-14-86231b694911>\u001b[0m in \u001b[0;36m<module>\u001b[0;34m\u001b[0m\n\u001b[0;32m----> 1\u001b[0;31m \u001b[0mgrid_search\u001b[0m\u001b[0;34m(\u001b[0m\u001b[0mmogp_cwgp\u001b[0m\u001b[0;34m,\u001b[0m \u001b[0mx_tv\u001b[0m \u001b[0;34m,\u001b[0m \u001b[0my_tv\u001b[0m\u001b[0;34m[\u001b[0m\u001b[0;36m0\u001b[0m\u001b[0;34m]\u001b[0m\u001b[0;34m,\u001b[0m \u001b[0;34m{\u001b[0m\u001b[0;34m\"c\"\u001b[0m\u001b[0;34m:\u001b[0m\u001b[0;36m4\u001b[0m\u001b[0;34m,\u001b[0m\u001b[0;34m\"n\"\u001b[0m\u001b[0;34m:\u001b[0m\u001b[0;34m[\u001b[0m\u001b[0;36m2\u001b[0m\u001b[0;34m]\u001b[0m\u001b[0;34m,\u001b[0m\u001b[0;34m\"transformations\"\u001b[0m\u001b[0;34m:\u001b[0m\u001b[0;34m[\u001b[0m\u001b[0;34m\"box_cox\"\u001b[0m\u001b[0;34m,\u001b[0m\u001b[0;34m\"sa\"\u001b[0m\u001b[0;34m]\u001b[0m\u001b[0;34m}\u001b[0m\u001b[0;34m,\u001b[0m \u001b[0mmean_function\u001b[0m\u001b[0;34m=\u001b[0m\u001b[0mconst\u001b[0m\u001b[0;34m,\u001b[0m\u001b[0mn_splits\u001b[0m\u001b[0;34m=\u001b[0m\u001b[0;36m3\u001b[0m\u001b[0;34m,\u001b[0m\u001b[0mrandom_state\u001b[0m\u001b[0;34m=\u001b[0m\u001b[0;36m1\u001b[0m\u001b[0;34m,\u001b[0m\u001b[0mshuffle\u001b[0m\u001b[0;34m=\u001b[0m\u001b[0;32mTrue\u001b[0m\u001b[0;34m,\u001b[0m \u001b[0mcv\u001b[0m\u001b[0;34m=\u001b[0m\u001b[0;32mTrue\u001b[0m\u001b[0;34m,\u001b[0m \u001b[0mX\u001b[0m\u001b[0;34m=\u001b[0m\u001b[0mX\u001b[0m\u001b[0;34m,\u001b[0m\u001b[0mY\u001b[0m\u001b[0;34m=\u001b[0m\u001b[0mY\u001b[0m\u001b[0;34m,\u001b[0m \u001b[0mx_test\u001b[0m\u001b[0;34m=\u001b[0m\u001b[0mx_test\u001b[0m\u001b[0;34m,\u001b[0m \u001b[0my_test\u001b[0m\u001b[0;34m=\u001b[0m\u001b[0my_test\u001b[0m\u001b[0;34m)\u001b[0m\u001b[0;34m\u001b[0m\u001b[0;34m\u001b[0m\u001b[0m\n\u001b[0m",
      "\u001b[0;32m/opt/anaconda3/lib/python3.7/site-packages/cwgp/grid_search.py\u001b[0m in \u001b[0;36mgrid_search\u001b[0;34m(estimator, x, y, params, **kwargs)\u001b[0m\n\u001b[1;32m     75\u001b[0m                     \u001b[0mhyperparams\u001b[0m\u001b[0;34m=\u001b[0m\u001b[0mparam\u001b[0m\u001b[0;34m,\u001b[0m\u001b[0;34m\u001b[0m\u001b[0;34m\u001b[0m\u001b[0m\n\u001b[1;32m     76\u001b[0m                     \u001b[0mmodel_holder\u001b[0m\u001b[0;34m=\u001b[0m\u001b[0mmodel_holder\u001b[0m\u001b[0;34m,\u001b[0m\u001b[0;34m\u001b[0m\u001b[0;34m\u001b[0m\u001b[0m\n\u001b[0;32m---> 77\u001b[0;31m                     **kwargs)\n\u001b[0m\u001b[1;32m     78\u001b[0m         \u001b[0;32melse\u001b[0m\u001b[0;34m:\u001b[0m\u001b[0;34m\u001b[0m\u001b[0;34m\u001b[0m\u001b[0m\n\u001b[1;32m     79\u001b[0m             model_holder = fit_transform(\n",
      "\u001b[0;32m<ipython-input-6-7939ea37ae1e>\u001b[0m in \u001b[0;36mmogp_cwgp\u001b[0;34m(**kwargs)\u001b[0m\n\u001b[1;32m     41\u001b[0m \u001b[0;34m\u001b[0m\u001b[0m\n\u001b[1;32m     42\u001b[0m \u001b[0;34m\u001b[0m\u001b[0m\n\u001b[0;32m---> 43\u001b[0;31m     \u001b[0mn\u001b[0m \u001b[0;34m=\u001b[0m \u001b[0mGPCoregionalizedRegression\u001b[0m\u001b[0;34m(\u001b[0m\u001b[0;34m[\u001b[0m\u001b[0mX_jp_train\u001b[0m\u001b[0;34m,\u001b[0m \u001b[0mX_us_train\u001b[0m\u001b[0;34m]\u001b[0m\u001b[0;34m,\u001b[0m\u001b[0;34m[\u001b[0m\u001b[0mY_jp_train\u001b[0m\u001b[0;34m,\u001b[0m\u001b[0mY_us_train\u001b[0m\u001b[0;34m]\u001b[0m\u001b[0;34m,\u001b[0m\u001b[0mkernel\u001b[0m\u001b[0;34m=\u001b[0m\u001b[0micm\u001b[0m\u001b[0;34m,\u001b[0m\u001b[0mmean_function\u001b[0m\u001b[0;34m=\u001b[0m\u001b[0mmf\u001b[0m\u001b[0;34m)\u001b[0m\u001b[0;34m\u001b[0m\u001b[0;34m\u001b[0m\u001b[0m\n\u001b[0m\u001b[1;32m     44\u001b[0m     \u001b[0mn\u001b[0m\u001b[0;34m.\u001b[0m\u001b[0moptimize\u001b[0m\u001b[0;34m(\u001b[0m\u001b[0;34m)\u001b[0m\u001b[0;34m\u001b[0m\u001b[0;34m\u001b[0m\u001b[0m\n\u001b[1;32m     45\u001b[0m \u001b[0;34m\u001b[0m\u001b[0m\n",
      "\u001b[0;32m/opt/anaconda3/lib/python3.7/site-packages/paramz/parameterized.py\u001b[0m in \u001b[0;36m__call__\u001b[0;34m(self, *args, **kw)\u001b[0m\n\u001b[1;32m     51\u001b[0m         \u001b[0;31m#import ipdb;ipdb.set_trace()\u001b[0m\u001b[0;34m\u001b[0m\u001b[0;34m\u001b[0m\u001b[0;34m\u001b[0m\u001b[0m\n\u001b[1;32m     52\u001b[0m         \u001b[0minitialize\u001b[0m \u001b[0;34m=\u001b[0m \u001b[0mkw\u001b[0m\u001b[0;34m.\u001b[0m\u001b[0mpop\u001b[0m\u001b[0;34m(\u001b[0m\u001b[0;34m'initialize'\u001b[0m\u001b[0;34m,\u001b[0m \u001b[0;32mTrue\u001b[0m\u001b[0;34m)\u001b[0m\u001b[0;34m\u001b[0m\u001b[0;34m\u001b[0m\u001b[0m\n\u001b[0;32m---> 53\u001b[0;31m         \u001b[0mself\u001b[0m \u001b[0;34m=\u001b[0m \u001b[0msuper\u001b[0m\u001b[0;34m(\u001b[0m\u001b[0mParametersChangedMeta\u001b[0m\u001b[0;34m,\u001b[0m \u001b[0mself\u001b[0m\u001b[0;34m)\u001b[0m\u001b[0;34m.\u001b[0m\u001b[0m__call__\u001b[0m\u001b[0;34m(\u001b[0m\u001b[0;34m*\u001b[0m\u001b[0margs\u001b[0m\u001b[0;34m,\u001b[0m \u001b[0;34m**\u001b[0m\u001b[0mkw\u001b[0m\u001b[0;34m)\u001b[0m\u001b[0;34m\u001b[0m\u001b[0;34m\u001b[0m\u001b[0m\n\u001b[0m\u001b[1;32m     54\u001b[0m         \u001b[0;31m#logger.debug(\"finished init\")\u001b[0m\u001b[0;34m\u001b[0m\u001b[0;34m\u001b[0m\u001b[0;34m\u001b[0m\u001b[0m\n\u001b[1;32m     55\u001b[0m         \u001b[0mself\u001b[0m\u001b[0;34m.\u001b[0m\u001b[0m_in_init_\u001b[0m \u001b[0;34m=\u001b[0m \u001b[0;32mFalse\u001b[0m\u001b[0;34m\u001b[0m\u001b[0;34m\u001b[0m\u001b[0m\n",
      "\u001b[0;32m<ipython-input-2-9ecc8b1441ac>\u001b[0m in \u001b[0;36m__init__\u001b[0;34m(self, X_list, Y_list, kernel, mean_function, likelihoods_list, name, W_rank, kernel_name)\u001b[0m\n\u001b[1;32m     35\u001b[0m         \u001b[0mlikelihood\u001b[0m \u001b[0;34m=\u001b[0m \u001b[0mutil\u001b[0m\u001b[0;34m.\u001b[0m\u001b[0mmultioutput\u001b[0m\u001b[0;34m.\u001b[0m\u001b[0mbuild_likelihood\u001b[0m\u001b[0;34m(\u001b[0m\u001b[0mY_list\u001b[0m\u001b[0;34m,\u001b[0m\u001b[0mself\u001b[0m\u001b[0;34m.\u001b[0m\u001b[0moutput_index\u001b[0m\u001b[0;34m,\u001b[0m\u001b[0mlikelihoods_list\u001b[0m\u001b[0;34m)\u001b[0m\u001b[0;34m\u001b[0m\u001b[0;34m\u001b[0m\u001b[0m\n\u001b[1;32m     36\u001b[0m \u001b[0;34m\u001b[0m\u001b[0m\n\u001b[0;32m---> 37\u001b[0;31m         \u001b[0msuper\u001b[0m\u001b[0;34m(\u001b[0m\u001b[0mGPCoregionalizedRegression\u001b[0m\u001b[0;34m,\u001b[0m \u001b[0mself\u001b[0m\u001b[0;34m)\u001b[0m\u001b[0;34m.\u001b[0m\u001b[0m__init__\u001b[0m\u001b[0;34m(\u001b[0m\u001b[0mX\u001b[0m\u001b[0;34m,\u001b[0m\u001b[0mY\u001b[0m\u001b[0;34m,\u001b[0m\u001b[0mkernel\u001b[0m\u001b[0;34m,\u001b[0m\u001b[0mlikelihood\u001b[0m\u001b[0;34m,\u001b[0m\u001b[0mmean_function\u001b[0m\u001b[0;34m=\u001b[0m\u001b[0mmean_function\u001b[0m\u001b[0;34m,\u001b[0m \u001b[0mY_metadata\u001b[0m\u001b[0;34m=\u001b[0m\u001b[0;34m{\u001b[0m\u001b[0;34m'output_index'\u001b[0m\u001b[0;34m:\u001b[0m\u001b[0mself\u001b[0m\u001b[0;34m.\u001b[0m\u001b[0moutput_index\u001b[0m\u001b[0;34m}\u001b[0m\u001b[0;34m)\u001b[0m\u001b[0;34m\u001b[0m\u001b[0;34m\u001b[0m\u001b[0m\n\u001b[0m",
      "\u001b[0;32m/opt/anaconda3/lib/python3.7/site-packages/GPy/core/gp.py\u001b[0m in \u001b[0;36m__init__\u001b[0;34m(self, X, Y, kernel, likelihood, mean_function, inference_method, name, Y_metadata, normalizer)\u001b[0m\n\u001b[1;32m     91\u001b[0m         \u001b[0;32mif\u001b[0m \u001b[0mmean_function\u001b[0m \u001b[0;32mis\u001b[0m \u001b[0;32mnot\u001b[0m \u001b[0;32mNone\u001b[0m\u001b[0;34m:\u001b[0m\u001b[0;34m\u001b[0m\u001b[0;34m\u001b[0m\u001b[0m\n\u001b[1;32m     92\u001b[0m             \u001b[0;32massert\u001b[0m \u001b[0misinstance\u001b[0m\u001b[0;34m(\u001b[0m\u001b[0mself\u001b[0m\u001b[0;34m.\u001b[0m\u001b[0mmean_function\u001b[0m\u001b[0;34m,\u001b[0m \u001b[0mMapping\u001b[0m\u001b[0;34m)\u001b[0m\u001b[0;34m\u001b[0m\u001b[0;34m\u001b[0m\u001b[0m\n\u001b[0;32m---> 93\u001b[0;31m             \u001b[0;32massert\u001b[0m \u001b[0mmean_function\u001b[0m\u001b[0;34m.\u001b[0m\u001b[0minput_dim\u001b[0m \u001b[0;34m==\u001b[0m \u001b[0mself\u001b[0m\u001b[0;34m.\u001b[0m\u001b[0minput_dim\u001b[0m\u001b[0;34m\u001b[0m\u001b[0;34m\u001b[0m\u001b[0m\n\u001b[0m\u001b[1;32m     94\u001b[0m             \u001b[0;32massert\u001b[0m \u001b[0mmean_function\u001b[0m\u001b[0;34m.\u001b[0m\u001b[0moutput_dim\u001b[0m \u001b[0;34m==\u001b[0m \u001b[0mself\u001b[0m\u001b[0;34m.\u001b[0m\u001b[0moutput_dim\u001b[0m\u001b[0;34m\u001b[0m\u001b[0;34m\u001b[0m\u001b[0m\n\u001b[1;32m     95\u001b[0m             \u001b[0mself\u001b[0m\u001b[0;34m.\u001b[0m\u001b[0mlink_parameter\u001b[0m\u001b[0;34m(\u001b[0m\u001b[0mmean_function\u001b[0m\u001b[0;34m)\u001b[0m\u001b[0;34m\u001b[0m\u001b[0;34m\u001b[0m\u001b[0m\n",
      "\u001b[0;31mAssertionError\u001b[0m: "
     ]
    }
   ],
   "source": [
    "grid_search(mogp_cwgp, x_tv , y_tv[0], {\"c\":4,\"n\":[2],\"transformations\":[\"box_cox\",\"sa\"]}, mean_function=const,n_splits=3,random_state=1,shuffle=True, cv=True, X=X,Y=Y, x_test=x_test, y_test=y_test)"
   ]
  },
  {
   "cell_type": "code",
   "execution_count": null,
   "metadata": {},
   "outputs": [],
   "source": []
  }
 ],
 "metadata": {
  "kernelspec": {
   "display_name": "Python 3",
   "language": "python",
   "name": "python3"
  },
  "language_info": {
   "codemirror_mode": {
    "name": "ipython",
    "version": 3
   },
   "file_extension": ".py",
   "mimetype": "text/x-python",
   "name": "python",
   "nbconvert_exporter": "python",
   "pygments_lexer": "ipython3",
   "version": "3.7.4"
  }
 },
 "nbformat": 4,
 "nbformat_minor": 2
}
